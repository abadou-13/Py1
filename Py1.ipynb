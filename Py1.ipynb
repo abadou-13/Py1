{
 "cells": [
  {
   "cell_type": "markdown",
   "id": "40e1240a",
   "metadata": {},
   "source": [
    "# Exploration des données de l'entreprise Sell4All :"
   ]
  },
  {
   "cell_type": "markdown",
   "id": "0c5da6b7",
   "metadata": {},
   "source": [
    "# Réalisé par Abdellah Badou"
   ]
  },
  {
   "cell_type": "markdown",
   "id": "ab6359a3",
   "metadata": {},
   "source": [
    "# Introduction :"
   ]
  },
  {
   "cell_type": "markdown",
   "id": "1e176a56",
   "metadata": {},
   "source": [
    "Cette base de données contient des informations sur les utilisateurs (clients), et leurs dépenses sur le site Web de Sell4All. Avec 505 lignes et 11 colonnes."
   ]
  },
  {
   "cell_type": "markdown",
   "id": "8c58cc8b",
   "metadata": {},
   "source": [
    "Importation des bibliothèques :"
   ]
  },
  {
   "cell_type": "code",
   "execution_count": 3,
   "id": "14ba0702",
   "metadata": {},
   "outputs": [],
   "source": [
    "import pandas as pd\n",
    "import matplotlib.pyplot as plt\n",
    "\n",
    "%matplotlib inline"
   ]
  },
  {
   "cell_type": "markdown",
   "id": "2d86d673",
   "metadata": {},
   "source": [
    "Informations sur les 5 premières lignes du fichier CSV :"
   ]
  },
  {
   "cell_type": "code",
   "execution_count": 4,
   "id": "b1a6508e",
   "metadata": {},
   "outputs": [
    {
     "data": {
      "text/html": [
       "<div>\n",
       "<style scoped>\n",
       "    .dataframe tbody tr th:only-of-type {\n",
       "        vertical-align: middle;\n",
       "    }\n",
       "\n",
       "    .dataframe tbody tr th {\n",
       "        vertical-align: top;\n",
       "    }\n",
       "\n",
       "    .dataframe thead th {\n",
       "        text-align: right;\n",
       "    }\n",
       "</style>\n",
       "<table border=\"1\" class=\"dataframe\">\n",
       "  <thead>\n",
       "    <tr style=\"text-align: right;\">\n",
       "      <th></th>\n",
       "      <th>Name</th>\n",
       "      <th>Phone Number</th>\n",
       "      <th>Email</th>\n",
       "      <th>Address</th>\n",
       "      <th>Country</th>\n",
       "      <th>Postal code</th>\n",
       "      <th>Last date of connection</th>\n",
       "      <th>Last time of connection</th>\n",
       "      <th>Age</th>\n",
       "      <th>Gender</th>\n",
       "      <th>Customer spendings</th>\n",
       "    </tr>\n",
       "  </thead>\n",
       "  <tbody>\n",
       "    <tr>\n",
       "      <th>0</th>\n",
       "      <td>Aaron Cote</td>\n",
       "      <td>966-7625</td>\n",
       "      <td>elit@hotmail.org</td>\n",
       "      <td>699-5837 Risus Street</td>\n",
       "      <td>Norway</td>\n",
       "      <td>4126</td>\n",
       "      <td>5-Apr-21</td>\n",
       "      <td>4:39</td>\n",
       "      <td>71</td>\n",
       "      <td>Man</td>\n",
       "      <td>356</td>\n",
       "    </tr>\n",
       "    <tr>\n",
       "      <th>1</th>\n",
       "      <td>Angelica Lawson</td>\n",
       "      <td>232-3051</td>\n",
       "      <td>diam.proin@google.org</td>\n",
       "      <td>481-8428 Magna. Street</td>\n",
       "      <td>Pakistan</td>\n",
       "      <td>518885</td>\n",
       "      <td>oct. 10, 2021</td>\n",
       "      <td>0:36</td>\n",
       "      <td>37</td>\n",
       "      <td>Women</td>\n",
       "      <td>173</td>\n",
       "    </tr>\n",
       "    <tr>\n",
       "      <th>2</th>\n",
       "      <td>Louis Gilbert</td>\n",
       "      <td>1-997-733-0134</td>\n",
       "      <td>lorem.fringilla@hotmail.org</td>\n",
       "      <td>Ap #192-2082 Enim. Ave</td>\n",
       "      <td>Colombia</td>\n",
       "      <td>575444</td>\n",
       "      <td>2-Jul-22</td>\n",
       "      <td>3:37</td>\n",
       "      <td>24</td>\n",
       "      <td>Women</td>\n",
       "      <td>105</td>\n",
       "    </tr>\n",
       "    <tr>\n",
       "      <th>3</th>\n",
       "      <td>Basia Finley</td>\n",
       "      <td>1-987-322-7148</td>\n",
       "      <td>tristique.aliquet@icloud.co</td>\n",
       "      <td>608-2732 Nec Rd.</td>\n",
       "      <td>South Africa</td>\n",
       "      <td>5973-5765</td>\n",
       "      <td>19-Feb-22</td>\n",
       "      <td>2:34</td>\n",
       "      <td>37</td>\n",
       "      <td>Women</td>\n",
       "      <td>28</td>\n",
       "    </tr>\n",
       "    <tr>\n",
       "      <th>4</th>\n",
       "      <td>Rhona Sears</td>\n",
       "      <td>387-7682</td>\n",
       "      <td>iaculis.odio.nam@protonmail.org</td>\n",
       "      <td>8763 In Rd.</td>\n",
       "      <td>France</td>\n",
       "      <td>37476</td>\n",
       "      <td>31-Mar-22</td>\n",
       "      <td>6:28</td>\n",
       "      <td>42</td>\n",
       "      <td>Women</td>\n",
       "      <td>13</td>\n",
       "    </tr>\n",
       "  </tbody>\n",
       "</table>\n",
       "</div>"
      ],
      "text/plain": [
       "              Name    Phone Number                            Email  \\\n",
       "0       Aaron Cote        966-7625                 elit@hotmail.org   \n",
       "1  Angelica Lawson        232-3051            diam.proin@google.org   \n",
       "2    Louis Gilbert  1-997-733-0134      lorem.fringilla@hotmail.org   \n",
       "3     Basia Finley  1-987-322-7148      tristique.aliquet@icloud.co   \n",
       "4      Rhona Sears        387-7682  iaculis.odio.nam@protonmail.org   \n",
       "\n",
       "                  Address       Country Postal code Last date of connection  \\\n",
       "0   699-5837 Risus Street        Norway        4126                5-Apr-21   \n",
       "1  481-8428 Magna. Street      Pakistan      518885           oct. 10, 2021   \n",
       "2  Ap #192-2082 Enim. Ave      Colombia      575444                2-Jul-22   \n",
       "3        608-2732 Nec Rd.  South Africa   5973-5765               19-Feb-22   \n",
       "4             8763 In Rd.        France       37476               31-Mar-22   \n",
       "\n",
       "  Last time of connection  Age Gender  Customer spendings  \n",
       "0                    4:39   71    Man                 356  \n",
       "1                    0:36   37  Women                 173  \n",
       "2                    3:37   24  Women                 105  \n",
       "3                    2:34   37  Women                  28  \n",
       "4                    6:28   42  Women                  13  "
      ]
     },
     "execution_count": 4,
     "metadata": {},
     "output_type": "execute_result"
    }
   ],
   "source": [
    "Sell4All_data = pd.read_csv('dataset-sell4all.csv')\n",
    "Sell4All_data.head(5)"
   ]
  },
  {
   "cell_type": "markdown",
   "id": "6698597e",
   "metadata": {},
   "source": [
    "Résumé technique des données :"
   ]
  },
  {
   "cell_type": "code",
   "execution_count": 5,
   "id": "b255158b",
   "metadata": {},
   "outputs": [
    {
     "name": "stdout",
     "output_type": "stream",
     "text": [
      "Forme de la base de données : (505, 11)\n",
      "\n",
      "Nombre de lignes :  505\n",
      "\n",
      "Les types de données des champs du fichier CSV :\n",
      "\n",
      "<class 'pandas.core.frame.DataFrame'>\n",
      "RangeIndex: 505 entries, 0 to 504\n",
      "Data columns (total 11 columns):\n",
      " #   Column                   Non-Null Count  Dtype \n",
      "---  ------                   --------------  ----- \n",
      " 0   Name                     505 non-null    object\n",
      " 1   Phone Number             505 non-null    object\n",
      " 2   Email                    505 non-null    object\n",
      " 3   Address                  505 non-null    object\n",
      " 4   Country                  505 non-null    object\n",
      " 5   Postal code              505 non-null    object\n",
      " 6   Last date of connection  505 non-null    object\n",
      " 7   Last time of connection  505 non-null    object\n",
      " 8   Age                      505 non-null    int64 \n",
      " 9   Gender                   505 non-null    object\n",
      " 10  Customer spendings       505 non-null    int64 \n",
      "dtypes: int64(2), object(9)\n",
      "memory usage: 43.5+ KB\n"
     ]
    }
   ],
   "source": [
    "print('Forme de la base de données : {}\\n'.format(Sell4All_data.shape))\n",
    "print('Nombre de lignes : ', len(Sell4All_data.index))\n",
    "print('\\nLes types de données des champs du fichier CSV :\\n')\n",
    "Sell4All_data.info()"
   ]
  },
  {
   "cell_type": "markdown",
   "id": "b0b35bc4",
   "metadata": {},
   "source": [
    "# Explication :"
   ]
  },
  {
   "cell_type": "markdown",
   "id": "b3d75993",
   "metadata": {},
   "source": [
    "D'apres le résumé technique on a 505 lignes et 11 colonnes, 7 colonnes sont qualitatives, 2 colonnes sont quantitatives (Age : entier naturel), Customer spendings : entier naturel) et les 2 autres sont temporelles (Last date of connection, Last time of connection). Ainsi toutes les valeurs sont non nulles (non null)."
   ]
  },
  {
   "cell_type": "markdown",
   "id": "45858fdf",
   "metadata": {},
   "source": [
    "La moyenne de la colonne Age :"
   ]
  },
  {
   "cell_type": "code",
   "execution_count": 6,
   "id": "1d057654",
   "metadata": {},
   "outputs": [
    {
     "data": {
      "text/plain": [
       "46.08316831683168"
      ]
     },
     "execution_count": 6,
     "metadata": {},
     "output_type": "execute_result"
    }
   ],
   "source": [
    "Sell4All_data['Age'].mean()"
   ]
  },
  {
   "cell_type": "markdown",
   "id": "c1ee6e37",
   "metadata": {},
   "source": [
    "La médiane de la colonne Age :"
   ]
  },
  {
   "cell_type": "code",
   "execution_count": 8,
   "id": "8dc02cef",
   "metadata": {},
   "outputs": [
    {
     "data": {
      "text/plain": [
       "46.0"
      ]
     },
     "execution_count": 8,
     "metadata": {},
     "output_type": "execute_result"
    }
   ],
   "source": [
    "Sell4All_data['Age'].median()"
   ]
  },
  {
   "cell_type": "markdown",
   "id": "ac39a78f",
   "metadata": {},
   "source": [
    "La moyenne de la colonne Customer spendings :"
   ]
  },
  {
   "cell_type": "code",
   "execution_count": 9,
   "id": "7c2ec59a",
   "metadata": {},
   "outputs": [
    {
     "data": {
      "text/plain": [
       "311.16831683168317"
      ]
     },
     "execution_count": 9,
     "metadata": {},
     "output_type": "execute_result"
    }
   ],
   "source": [
    "Sell4All_data['Customer spendings'].mean()"
   ]
  },
  {
   "cell_type": "markdown",
   "id": "1e70f708",
   "metadata": {},
   "source": [
    "La médiane de la colonne Customer spendings :"
   ]
  },
  {
   "cell_type": "code",
   "execution_count": 10,
   "id": "52cc8f99",
   "metadata": {},
   "outputs": [
    {
     "data": {
      "text/plain": [
       "307.0"
      ]
     },
     "execution_count": 10,
     "metadata": {},
     "output_type": "execute_result"
    }
   ],
   "source": [
    "Sell4All_data['Customer spendings'].median()"
   ]
  },
  {
   "cell_type": "markdown",
   "id": "e2997f93",
   "metadata": {},
   "source": [
    "La médiane d’âge pour chaque pays :"
   ]
  },
  {
   "cell_type": "code",
   "execution_count": 11,
   "id": "90b7d3f8",
   "metadata": {},
   "outputs": [
    {
     "data": {
      "text/plain": [
       "Country\n",
       "Australia             44.0\n",
       "Austria               43.0\n",
       "Belgium               39.0\n",
       "Brazil                49.5\n",
       "Canada                46.0\n",
       "Chile                 46.0\n",
       "China                 35.0\n",
       "Colombia              29.0\n",
       "Costa Rica            48.0\n",
       "France                56.5\n",
       "Germany               53.0\n",
       "India                 45.5\n",
       "Indonesia             41.5\n",
       "Ireland               49.0\n",
       "Italy                 41.0\n",
       "Mexico                47.0\n",
       "Netherlands           48.0\n",
       "New Zealand           38.0\n",
       "Nigeria               37.0\n",
       "Norway                54.0\n",
       "Pakistan              44.0\n",
       "Peru                  38.0\n",
       "Philippines           51.0\n",
       "Poland                49.5\n",
       "Russian Federation    48.0\n",
       "Singapore             41.5\n",
       "South Africa          43.0\n",
       "South Korea           49.5\n",
       "Spain                 54.5\n",
       "Sweden                40.0\n",
       "Turkey                60.0\n",
       "Ukraine               46.0\n",
       "United Kingdom        48.5\n",
       "United States         48.5\n",
       "Vietnam               48.0\n",
       "Name: Age, dtype: float64"
      ]
     },
     "execution_count": 11,
     "metadata": {},
     "output_type": "execute_result"
    }
   ],
   "source": [
    "Sell4All_data.groupby('Country')['Age'].median()"
   ]
  },
  {
   "cell_type": "markdown",
   "id": "13d3664d",
   "metadata": {},
   "source": [
    "Visualisation des données du graphique à barres qui montre les dépenses des clients par pays :"
   ]
  },
  {
   "cell_type": "code",
   "execution_count": 12,
   "id": "83692547",
   "metadata": {},
   "outputs": [
    {
     "data": {
      "image/png": "[encoded data removed]",
      "text/plain": [
       "<Figure size 1200x800 with 1 Axes>"
      ]
     },
     "metadata": {},
     "output_type": "display_data"
    }
   ],
   "source": [
    "country = Sell4All_data['Country'].head(300)\n",
    "customer_spendings = Sell4All_data['Customer spendings'].head(300)\n",
    "\n",
    "plt.figure(figsize = (12, 8))\n",
    "\n",
    "plt.barh(country, customer_spendings)\n",
    "\n",
    "plt.xlabel('Countrys')\n",
    "plt.ylabel('Customers spendings');\n",
    "\n",
    "plt.show()"
   ]
  },
  {
   "cell_type": "markdown",
   "id": "3f75beb4",
   "metadata": {},
   "source": [
    "# Interprétation du graphique :"
   ]
  },
  {
   "cell_type": "markdown",
   "id": "4ede37c1",
   "metadata": {},
   "source": [
    "On constate qu'il y a des pays où les dépenses des clients sont très inférieures par rapport aux autres (moins de 400 €) par exemple (United Kingdom, Norway, Belgium)."
   ]
  },
  {
   "cell_type": "markdown",
   "id": "d8716869",
   "metadata": {},
   "source": [
    "Suppression de toutes les lignes d'utilisateurs ayant dépensé moins de 10 € sur le site :"
   ]
  },
  {
   "cell_type": "code",
   "execution_count": 13,
   "id": "a7de13b5",
   "metadata": {},
   "outputs": [
    {
     "data": {
      "text/html": [
       "<div>\n",
       "<style scoped>\n",
       "    .dataframe tbody tr th:only-of-type {\n",
       "        vertical-align: middle;\n",
       "    }\n",
       "\n",
       "    .dataframe tbody tr th {\n",
       "        vertical-align: top;\n",
       "    }\n",
       "\n",
       "    .dataframe thead th {\n",
       "        text-align: right;\n",
       "    }\n",
       "</style>\n",
       "<table border=\"1\" class=\"dataframe\">\n",
       "  <thead>\n",
       "    <tr style=\"text-align: right;\">\n",
       "      <th></th>\n",
       "      <th>Name</th>\n",
       "      <th>Phone Number</th>\n",
       "      <th>Email</th>\n",
       "      <th>Address</th>\n",
       "      <th>Country</th>\n",
       "      <th>Postal code</th>\n",
       "      <th>Last date of connection</th>\n",
       "      <th>Last time of connection</th>\n",
       "      <th>Age</th>\n",
       "      <th>Gender</th>\n",
       "      <th>Customer spendings</th>\n",
       "    </tr>\n",
       "  </thead>\n",
       "  <tbody>\n",
       "    <tr>\n",
       "      <th>0</th>\n",
       "      <td>Aaron Cote</td>\n",
       "      <td>966-7625</td>\n",
       "      <td>elit@hotmail.org</td>\n",
       "      <td>699-5837 Risus Street</td>\n",
       "      <td>Norway</td>\n",
       "      <td>4126</td>\n",
       "      <td>5-Apr-21</td>\n",
       "      <td>4:39</td>\n",
       "      <td>71</td>\n",
       "      <td>Man</td>\n",
       "      <td>356</td>\n",
       "    </tr>\n",
       "    <tr>\n",
       "      <th>1</th>\n",
       "      <td>Angelica Lawson</td>\n",
       "      <td>232-3051</td>\n",
       "      <td>diam.proin@google.org</td>\n",
       "      <td>481-8428 Magna. Street</td>\n",
       "      <td>Pakistan</td>\n",
       "      <td>518885</td>\n",
       "      <td>oct. 10, 2021</td>\n",
       "      <td>0:36</td>\n",
       "      <td>37</td>\n",
       "      <td>Women</td>\n",
       "      <td>173</td>\n",
       "    </tr>\n",
       "    <tr>\n",
       "      <th>2</th>\n",
       "      <td>Louis Gilbert</td>\n",
       "      <td>1-997-733-0134</td>\n",
       "      <td>lorem.fringilla@hotmail.org</td>\n",
       "      <td>Ap #192-2082 Enim. Ave</td>\n",
       "      <td>Colombia</td>\n",
       "      <td>575444</td>\n",
       "      <td>2-Jul-22</td>\n",
       "      <td>3:37</td>\n",
       "      <td>24</td>\n",
       "      <td>Women</td>\n",
       "      <td>105</td>\n",
       "    </tr>\n",
       "    <tr>\n",
       "      <th>3</th>\n",
       "      <td>Basia Finley</td>\n",
       "      <td>1-987-322-7148</td>\n",
       "      <td>tristique.aliquet@icloud.co</td>\n",
       "      <td>608-2732 Nec Rd.</td>\n",
       "      <td>South Africa</td>\n",
       "      <td>5973-5765</td>\n",
       "      <td>19-Feb-22</td>\n",
       "      <td>2:34</td>\n",
       "      <td>37</td>\n",
       "      <td>Women</td>\n",
       "      <td>28</td>\n",
       "    </tr>\n",
       "    <tr>\n",
       "      <th>4</th>\n",
       "      <td>Rhona Sears</td>\n",
       "      <td>387-7682</td>\n",
       "      <td>iaculis.odio.nam@protonmail.org</td>\n",
       "      <td>8763 In Rd.</td>\n",
       "      <td>France</td>\n",
       "      <td>37476</td>\n",
       "      <td>31-Mar-22</td>\n",
       "      <td>6:28</td>\n",
       "      <td>42</td>\n",
       "      <td>Women</td>\n",
       "      <td>13</td>\n",
       "    </tr>\n",
       "    <tr>\n",
       "      <th>...</th>\n",
       "      <td>...</td>\n",
       "      <td>...</td>\n",
       "      <td>...</td>\n",
       "      <td>...</td>\n",
       "      <td>...</td>\n",
       "      <td>...</td>\n",
       "      <td>...</td>\n",
       "      <td>...</td>\n",
       "      <td>...</td>\n",
       "      <td>...</td>\n",
       "      <td>...</td>\n",
       "    </tr>\n",
       "    <tr>\n",
       "      <th>500</th>\n",
       "      <td>Abraham Walker</td>\n",
       "      <td>835-6185</td>\n",
       "      <td>nunc.sed.orci@outlook.net</td>\n",
       "      <td>Ap #258-8540 A, St.</td>\n",
       "      <td>South Africa</td>\n",
       "      <td>3181-4474</td>\n",
       "      <td>31-Jan-23</td>\n",
       "      <td>13:46</td>\n",
       "      <td>28</td>\n",
       "      <td>Women</td>\n",
       "      <td>182</td>\n",
       "    </tr>\n",
       "    <tr>\n",
       "      <th>501</th>\n",
       "      <td>Drake Carney</td>\n",
       "      <td>891-0713</td>\n",
       "      <td>dignissim.pharetra@icloud.org</td>\n",
       "      <td>304-4217 Ac Street</td>\n",
       "      <td>France</td>\n",
       "      <td>54615</td>\n",
       "      <td>11-Jun-22</td>\n",
       "      <td>10:06</td>\n",
       "      <td>46</td>\n",
       "      <td>Women</td>\n",
       "      <td>25</td>\n",
       "    </tr>\n",
       "    <tr>\n",
       "      <th>502</th>\n",
       "      <td>Hadley Sykes</td>\n",
       "      <td>1-865-267-6254</td>\n",
       "      <td>luctus@icloud.com</td>\n",
       "      <td>P.O. Box 851, 819 Pede. Av.</td>\n",
       "      <td>Peru</td>\n",
       "      <td>16373</td>\n",
       "      <td>13-Jun-22</td>\n",
       "      <td>18:49</td>\n",
       "      <td>43</td>\n",
       "      <td>Women</td>\n",
       "      <td>42</td>\n",
       "    </tr>\n",
       "    <tr>\n",
       "      <th>503</th>\n",
       "      <td>Dean Hensley</td>\n",
       "      <td>1-776-366-7784</td>\n",
       "      <td>dui@aol.com</td>\n",
       "      <td>P.O. Box 896, 2956 Risus. Ave</td>\n",
       "      <td>China</td>\n",
       "      <td>746013</td>\n",
       "      <td>27-Aug-21</td>\n",
       "      <td>6:02</td>\n",
       "      <td>20</td>\n",
       "      <td>Women</td>\n",
       "      <td>511</td>\n",
       "    </tr>\n",
       "    <tr>\n",
       "      <th>504</th>\n",
       "      <td>Margaret Leblanc</td>\n",
       "      <td>522-8552</td>\n",
       "      <td>nec.enim@yahoo.org</td>\n",
       "      <td>437-1106 Nec Street</td>\n",
       "      <td>United States</td>\n",
       "      <td>74253</td>\n",
       "      <td>2-Feb-23</td>\n",
       "      <td>4:56</td>\n",
       "      <td>72</td>\n",
       "      <td>Women</td>\n",
       "      <td>518</td>\n",
       "    </tr>\n",
       "  </tbody>\n",
       "</table>\n",
       "<p>502 rows × 11 columns</p>\n",
       "</div>"
      ],
      "text/plain": [
       "                 Name    Phone Number                            Email  \\\n",
       "0          Aaron Cote        966-7625                 elit@hotmail.org   \n",
       "1     Angelica Lawson        232-3051            diam.proin@google.org   \n",
       "2       Louis Gilbert  1-997-733-0134      lorem.fringilla@hotmail.org   \n",
       "3        Basia Finley  1-987-322-7148      tristique.aliquet@icloud.co   \n",
       "4         Rhona Sears        387-7682  iaculis.odio.nam@protonmail.org   \n",
       "..                ...             ...                              ...   \n",
       "500    Abraham Walker        835-6185        nunc.sed.orci@outlook.net   \n",
       "501      Drake Carney        891-0713    dignissim.pharetra@icloud.org   \n",
       "502      Hadley Sykes  1-865-267-6254                luctus@icloud.com   \n",
       "503      Dean Hensley  1-776-366-7784                      dui@aol.com   \n",
       "504  Margaret Leblanc        522-8552               nec.enim@yahoo.org   \n",
       "\n",
       "                           Address        Country Postal code  \\\n",
       "0            699-5837 Risus Street         Norway        4126   \n",
       "1           481-8428 Magna. Street       Pakistan      518885   \n",
       "2           Ap #192-2082 Enim. Ave       Colombia      575444   \n",
       "3                 608-2732 Nec Rd.   South Africa   5973-5765   \n",
       "4                      8763 In Rd.         France       37476   \n",
       "..                             ...            ...         ...   \n",
       "500            Ap #258-8540 A, St.   South Africa   3181-4474   \n",
       "501             304-4217 Ac Street         France       54615   \n",
       "502    P.O. Box 851, 819 Pede. Av.           Peru       16373   \n",
       "503  P.O. Box 896, 2956 Risus. Ave          China      746013   \n",
       "504            437-1106 Nec Street  United States       74253   \n",
       "\n",
       "    Last date of connection Last time of connection  Age Gender  \\\n",
       "0                  5-Apr-21                    4:39   71    Man   \n",
       "1             oct. 10, 2021                    0:36   37  Women   \n",
       "2                  2-Jul-22                    3:37   24  Women   \n",
       "3                 19-Feb-22                    2:34   37  Women   \n",
       "4                 31-Mar-22                    6:28   42  Women   \n",
       "..                      ...                     ...  ...    ...   \n",
       "500               31-Jan-23                   13:46   28  Women   \n",
       "501               11-Jun-22                   10:06   46  Women   \n",
       "502               13-Jun-22                   18:49   43  Women   \n",
       "503               27-Aug-21                    6:02   20  Women   \n",
       "504                2-Feb-23                    4:56   72  Women   \n",
       "\n",
       "     Customer spendings  \n",
       "0                   356  \n",
       "1                   173  \n",
       "2                   105  \n",
       "3                    28  \n",
       "4                    13  \n",
       "..                  ...  \n",
       "500                 182  \n",
       "501                  25  \n",
       "502                  42  \n",
       "503                 511  \n",
       "504                 518  \n",
       "\n",
       "[502 rows x 11 columns]"
      ]
     },
     "execution_count": 13,
     "metadata": {},
     "output_type": "execute_result"
    }
   ],
   "source": [
    "Sell4All_data.drop(Sell4All_data.index[Sell4All_data['Customer spendings'] < 10])"
   ]
  },
  {
   "cell_type": "markdown",
   "id": "2ed79bb0",
   "metadata": {},
   "source": [
    "Remarque : Ona 3 lignes dont la dépense du client est moins de 10 € sur le site."
   ]
  },
  {
   "cell_type": "markdown",
   "id": "3af7a293",
   "metadata": {},
   "source": [
    "Suppression de toutes les lignes qui apparaissent plus d’une fois dans les données :"
   ]
  },
  {
   "cell_type": "code",
   "execution_count": 14,
   "id": "0d3c0a35",
   "metadata": {},
   "outputs": [
    {
     "data": {
      "text/html": [
       "<div>\n",
       "<style scoped>\n",
       "    .dataframe tbody tr th:only-of-type {\n",
       "        vertical-align: middle;\n",
       "    }\n",
       "\n",
       "    .dataframe tbody tr th {\n",
       "        vertical-align: top;\n",
       "    }\n",
       "\n",
       "    .dataframe thead th {\n",
       "        text-align: right;\n",
       "    }\n",
       "</style>\n",
       "<table border=\"1\" class=\"dataframe\">\n",
       "  <thead>\n",
       "    <tr style=\"text-align: right;\">\n",
       "      <th></th>\n",
       "      <th>Name</th>\n",
       "      <th>Phone Number</th>\n",
       "      <th>Email</th>\n",
       "      <th>Address</th>\n",
       "      <th>Country</th>\n",
       "      <th>Postal code</th>\n",
       "      <th>Last date of connection</th>\n",
       "      <th>Last time of connection</th>\n",
       "      <th>Age</th>\n",
       "      <th>Gender</th>\n",
       "      <th>Customer spendings</th>\n",
       "    </tr>\n",
       "  </thead>\n",
       "  <tbody>\n",
       "    <tr>\n",
       "      <th>0</th>\n",
       "      <td>Aaron Cote</td>\n",
       "      <td>966-7625</td>\n",
       "      <td>elit@hotmail.org</td>\n",
       "      <td>699-5837 Risus Street</td>\n",
       "      <td>Norway</td>\n",
       "      <td>4126</td>\n",
       "      <td>5-Apr-21</td>\n",
       "      <td>4:39</td>\n",
       "      <td>71</td>\n",
       "      <td>Man</td>\n",
       "      <td>356</td>\n",
       "    </tr>\n",
       "    <tr>\n",
       "      <th>1</th>\n",
       "      <td>Angelica Lawson</td>\n",
       "      <td>232-3051</td>\n",
       "      <td>diam.proin@google.org</td>\n",
       "      <td>481-8428 Magna. Street</td>\n",
       "      <td>Pakistan</td>\n",
       "      <td>518885</td>\n",
       "      <td>oct. 10, 2021</td>\n",
       "      <td>0:36</td>\n",
       "      <td>37</td>\n",
       "      <td>Women</td>\n",
       "      <td>173</td>\n",
       "    </tr>\n",
       "    <tr>\n",
       "      <th>2</th>\n",
       "      <td>Louis Gilbert</td>\n",
       "      <td>1-997-733-0134</td>\n",
       "      <td>lorem.fringilla@hotmail.org</td>\n",
       "      <td>Ap #192-2082 Enim. Ave</td>\n",
       "      <td>Colombia</td>\n",
       "      <td>575444</td>\n",
       "      <td>2-Jul-22</td>\n",
       "      <td>3:37</td>\n",
       "      <td>24</td>\n",
       "      <td>Women</td>\n",
       "      <td>105</td>\n",
       "    </tr>\n",
       "    <tr>\n",
       "      <th>3</th>\n",
       "      <td>Basia Finley</td>\n",
       "      <td>1-987-322-7148</td>\n",
       "      <td>tristique.aliquet@icloud.co</td>\n",
       "      <td>608-2732 Nec Rd.</td>\n",
       "      <td>South Africa</td>\n",
       "      <td>5973-5765</td>\n",
       "      <td>19-Feb-22</td>\n",
       "      <td>2:34</td>\n",
       "      <td>37</td>\n",
       "      <td>Women</td>\n",
       "      <td>28</td>\n",
       "    </tr>\n",
       "    <tr>\n",
       "      <th>4</th>\n",
       "      <td>Rhona Sears</td>\n",
       "      <td>387-7682</td>\n",
       "      <td>iaculis.odio.nam@protonmail.org</td>\n",
       "      <td>8763 In Rd.</td>\n",
       "      <td>France</td>\n",
       "      <td>37476</td>\n",
       "      <td>31-Mar-22</td>\n",
       "      <td>6:28</td>\n",
       "      <td>42</td>\n",
       "      <td>Women</td>\n",
       "      <td>13</td>\n",
       "    </tr>\n",
       "    <tr>\n",
       "      <th>...</th>\n",
       "      <td>...</td>\n",
       "      <td>...</td>\n",
       "      <td>...</td>\n",
       "      <td>...</td>\n",
       "      <td>...</td>\n",
       "      <td>...</td>\n",
       "      <td>...</td>\n",
       "      <td>...</td>\n",
       "      <td>...</td>\n",
       "      <td>...</td>\n",
       "      <td>...</td>\n",
       "    </tr>\n",
       "    <tr>\n",
       "      <th>500</th>\n",
       "      <td>Abraham Walker</td>\n",
       "      <td>835-6185</td>\n",
       "      <td>nunc.sed.orci@outlook.net</td>\n",
       "      <td>Ap #258-8540 A, St.</td>\n",
       "      <td>South Africa</td>\n",
       "      <td>3181-4474</td>\n",
       "      <td>31-Jan-23</td>\n",
       "      <td>13:46</td>\n",
       "      <td>28</td>\n",
       "      <td>Women</td>\n",
       "      <td>182</td>\n",
       "    </tr>\n",
       "    <tr>\n",
       "      <th>501</th>\n",
       "      <td>Drake Carney</td>\n",
       "      <td>891-0713</td>\n",
       "      <td>dignissim.pharetra@icloud.org</td>\n",
       "      <td>304-4217 Ac Street</td>\n",
       "      <td>France</td>\n",
       "      <td>54615</td>\n",
       "      <td>11-Jun-22</td>\n",
       "      <td>10:06</td>\n",
       "      <td>46</td>\n",
       "      <td>Women</td>\n",
       "      <td>25</td>\n",
       "    </tr>\n",
       "    <tr>\n",
       "      <th>502</th>\n",
       "      <td>Hadley Sykes</td>\n",
       "      <td>1-865-267-6254</td>\n",
       "      <td>luctus@icloud.com</td>\n",
       "      <td>P.O. Box 851, 819 Pede. Av.</td>\n",
       "      <td>Peru</td>\n",
       "      <td>16373</td>\n",
       "      <td>13-Jun-22</td>\n",
       "      <td>18:49</td>\n",
       "      <td>43</td>\n",
       "      <td>Women</td>\n",
       "      <td>42</td>\n",
       "    </tr>\n",
       "    <tr>\n",
       "      <th>503</th>\n",
       "      <td>Dean Hensley</td>\n",
       "      <td>1-776-366-7784</td>\n",
       "      <td>dui@aol.com</td>\n",
       "      <td>P.O. Box 896, 2956 Risus. Ave</td>\n",
       "      <td>China</td>\n",
       "      <td>746013</td>\n",
       "      <td>27-Aug-21</td>\n",
       "      <td>6:02</td>\n",
       "      <td>20</td>\n",
       "      <td>Women</td>\n",
       "      <td>511</td>\n",
       "    </tr>\n",
       "    <tr>\n",
       "      <th>504</th>\n",
       "      <td>Margaret Leblanc</td>\n",
       "      <td>522-8552</td>\n",
       "      <td>nec.enim@yahoo.org</td>\n",
       "      <td>437-1106 Nec Street</td>\n",
       "      <td>United States</td>\n",
       "      <td>74253</td>\n",
       "      <td>2-Feb-23</td>\n",
       "      <td>4:56</td>\n",
       "      <td>72</td>\n",
       "      <td>Women</td>\n",
       "      <td>518</td>\n",
       "    </tr>\n",
       "  </tbody>\n",
       "</table>\n",
       "<p>500 rows × 11 columns</p>\n",
       "</div>"
      ],
      "text/plain": [
       "                 Name    Phone Number                            Email  \\\n",
       "0          Aaron Cote        966-7625                 elit@hotmail.org   \n",
       "1     Angelica Lawson        232-3051            diam.proin@google.org   \n",
       "2       Louis Gilbert  1-997-733-0134      lorem.fringilla@hotmail.org   \n",
       "3        Basia Finley  1-987-322-7148      tristique.aliquet@icloud.co   \n",
       "4         Rhona Sears        387-7682  iaculis.odio.nam@protonmail.org   \n",
       "..                ...             ...                              ...   \n",
       "500    Abraham Walker        835-6185        nunc.sed.orci@outlook.net   \n",
       "501      Drake Carney        891-0713    dignissim.pharetra@icloud.org   \n",
       "502      Hadley Sykes  1-865-267-6254                luctus@icloud.com   \n",
       "503      Dean Hensley  1-776-366-7784                      dui@aol.com   \n",
       "504  Margaret Leblanc        522-8552               nec.enim@yahoo.org   \n",
       "\n",
       "                           Address        Country Postal code  \\\n",
       "0            699-5837 Risus Street         Norway        4126   \n",
       "1           481-8428 Magna. Street       Pakistan      518885   \n",
       "2           Ap #192-2082 Enim. Ave       Colombia      575444   \n",
       "3                 608-2732 Nec Rd.   South Africa   5973-5765   \n",
       "4                      8763 In Rd.         France       37476   \n",
       "..                             ...            ...         ...   \n",
       "500            Ap #258-8540 A, St.   South Africa   3181-4474   \n",
       "501             304-4217 Ac Street         France       54615   \n",
       "502    P.O. Box 851, 819 Pede. Av.           Peru       16373   \n",
       "503  P.O. Box 896, 2956 Risus. Ave          China      746013   \n",
       "504            437-1106 Nec Street  United States       74253   \n",
       "\n",
       "    Last date of connection Last time of connection  Age Gender  \\\n",
       "0                  5-Apr-21                    4:39   71    Man   \n",
       "1             oct. 10, 2021                    0:36   37  Women   \n",
       "2                  2-Jul-22                    3:37   24  Women   \n",
       "3                 19-Feb-22                    2:34   37  Women   \n",
       "4                 31-Mar-22                    6:28   42  Women   \n",
       "..                      ...                     ...  ...    ...   \n",
       "500               31-Jan-23                   13:46   28  Women   \n",
       "501               11-Jun-22                   10:06   46  Women   \n",
       "502               13-Jun-22                   18:49   43  Women   \n",
       "503               27-Aug-21                    6:02   20  Women   \n",
       "504                2-Feb-23                    4:56   72  Women   \n",
       "\n",
       "     Customer spendings  \n",
       "0                   356  \n",
       "1                   173  \n",
       "2                   105  \n",
       "3                    28  \n",
       "4                    13  \n",
       "..                  ...  \n",
       "500                 182  \n",
       "501                  25  \n",
       "502                  42  \n",
       "503                 511  \n",
       "504                 518  \n",
       "\n",
       "[500 rows x 11 columns]"
      ]
     },
     "execution_count": 14,
     "metadata": {},
     "output_type": "execute_result"
    }
   ],
   "source": [
    "Sell4All_data.drop_duplicates()"
   ]
  },
  {
   "cell_type": "code",
   "execution_count": 15,
   "id": "116d6473",
   "metadata": {},
   "outputs": [],
   "source": [
    "column_list = ['Country','Age','Gender','Customer spendings']\n",
    "\n",
    "Sell4All_data.to_csv('Abdellah_Badou.csv', index=False, columns = column_list, sep='|')"
   ]
  },
  {
   "cell_type": "code",
   "execution_count": null,
   "id": "643eeca5",
   "metadata": {},
   "outputs": [],
   "source": []
  }
 ],
 "metadata": {
  "kernelspec": {
   "display_name": "Python 3 (ipykernel)",
   "language": "python",
   "name": "python3"
  },
  "language_info": {
   "codemirror_mode": {
    "name": "ipython",
    "version": 3
   },
   "file_extension": ".py",
   "mimetype": "text/x-python",
   "name": "python",
   "nbconvert_exporter": "python",
   "pygments_lexer": "ipython3",
   "version": "3.9.13"
  }
 },
 "nbformat": 4,
 "nbformat_minor": 5
}
